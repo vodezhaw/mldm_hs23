{
  "nbformat": 4,
  "nbformat_minor": 0,
  "metadata": {
    "colab": {
      "private_outputs": true,
      "provenance": []
    },
    "kernelspec": {
      "name": "python3",
      "display_name": "Python 3"
    },
    "language_info": {
      "name": "python"
    }
  },
  "cells": [
    {
      "cell_type": "code",
      "source": [
        "import numpy as np\n",
        "from matplotlib import pyplot as plt"
      ],
      "metadata": {
        "id": "8bPV9aEwTKC8"
      },
      "execution_count": null,
      "outputs": []
    },
    {
      "cell_type": "code",
      "source": [
        "RANDOM_SEED = 0x0"
      ],
      "metadata": {
        "id": "jFHJbjkfeepf"
      },
      "execution_count": null,
      "outputs": []
    },
    {
      "cell_type": "markdown",
      "source": [
        "# TASK 1 (4 Points): K-Means using scikit-learn"
      ],
      "metadata": {
        "id": "PeKVmElId1GV"
      }
    },
    {
      "cell_type": "markdown",
      "source": [
        "First we will generate some data. The variable `X` will contain the data used in this section."
      ],
      "metadata": {
        "id": "mxVgesOod7-p"
      }
    },
    {
      "cell_type": "code",
      "source": [
        "from sklearn.datasets import make_blobs"
      ],
      "metadata": {
        "id": "8x-oK1d5eDS9"
      },
      "execution_count": null,
      "outputs": []
    },
    {
      "cell_type": "code",
      "source": [
        "X, _ = make_blobs(\n",
        "    n_samples=300,\n",
        "    centers=4,\n",
        "    cluster_std=.6,\n",
        "    random_state=RANDOM_SEED,\n",
        ")\n",
        "\n",
        "plt.scatter(X[:, 0], X[:, 1], s=50)"
      ],
      "metadata": {
        "id": "nVE6ffy8eM_L"
      },
      "execution_count": null,
      "outputs": []
    },
    {
      "cell_type": "markdown",
      "source": [
        "### Task 1a\n",
        "\n",
        "Cluster the above data using the K-Means implementation provided by scikit-learn.\n",
        "Refer to the official documentation: <https://scikit-learn.org/stable/modules/generated/sklearn.cluster.KMeans.html>\n",
        "\n",
        "* create an instance of the class `sklearn.cluster.KMeans`\n",
        "* choose a suitable value for the `n_clusters` parameter\n",
        "* call the `.fit` method to compute the clustering\n",
        "* call the `.predict` method to get cluster labels for each data point"
      ],
      "metadata": {
        "id": "zCIJgMccfP62"
      }
    },
    {
      "cell_type": "code",
      "source": [
        "from sklearn.cluster import KMeans"
      ],
      "metadata": {
        "id": "2GhgP1ZSjdcW"
      },
      "execution_count": null,
      "outputs": []
    },
    {
      "cell_type": "code",
      "source": [
        "kmeans = KMeans(n_clusters=4)\n",
        "kmeans.fit(X)\n",
        "cluster_labels = kmeans.predict(X)"
      ],
      "metadata": {
        "id": "VU-xKgpsgfz1"
      },
      "execution_count": null,
      "outputs": []
    },
    {
      "cell_type": "markdown",
      "source": [
        "### Task 1b\n",
        "\n",
        "Try different numbers of clusters, compute the average silhouette scores using\n",
        "`sklearn.metrics.silhouette_score` and plot the silhouette plot for the different values of K. Refer to the documentation: <https://scikit-learn.org/stable/modules/generated/sklearn.metrics.silhouette_score.html#sklearn.metrics.silhouette_score>\n",
        "\n"
      ],
      "metadata": {
        "id": "21Kp9bM8jTbv"
      }
    },
    {
      "cell_type": "code",
      "source": [
        "from sklearn.metrics import silhouette_score"
      ],
      "metadata": {
        "id": "s5zTrdAIjrnA"
      },
      "execution_count": null,
      "outputs": []
    },
    {
      "cell_type": "code",
      "source": [
        "scores = []\n",
        "for k in range(2, 10):\n",
        "  km = KMeans(n_clusters=k)\n",
        "  labels = km.fit_predict(X)\n",
        "  score = silhouette_score(X, labels)\n",
        "  scores.append(score)\n",
        "  print(f\"n_clusters: {k}\\t average silhouette score: {score:.3f}\")\n",
        "\n",
        "plt.plot(np.array(range(2, 10)), scores, marker='x')"
      ],
      "metadata": {
        "id": "sjDFRRvJjwZm"
      },
      "execution_count": null,
      "outputs": []
    },
    {
      "cell_type": "markdown",
      "source": [
        "### Task 1c\n",
        "\n",
        "Select the number of clusters K using the silhouette method. Visualize the resulting clustering for in a scatter plot by using different colors for each cluster and also depicting the cluster centroids."
      ],
      "metadata": {
        "id": "CVvk9eAsyueW"
      }
    },
    {
      "cell_type": "code",
      "source": [
        "plt.scatter(X[:, 0], X[:, 1], c=cluster_labels, s=50)\n",
        "centers = kmeans.cluster_centers_\n",
        "plt.scatter(centers[:, 0], centers[:, 1], c='black', marker='x', s=200)"
      ],
      "metadata": {
        "id": "Ojo_54y4y9KV"
      },
      "execution_count": null,
      "outputs": []
    },
    {
      "cell_type": "markdown",
      "source": [
        "## 📢 **HAND-IN** 📢:\n",
        "1. The plot of the average silhouette scores for different values of K\n",
        "2. The optimal K you selected based on the plots of the silhouette scores (*Solution: 4*)\n",
        "3. The scatter plot of the clustering results and the centroids for the optimal K"
      ],
      "metadata": {
        "id": "YGMDRdH1fp2P"
      }
    },
    {
      "cell_type": "markdown",
      "source": [
        "# TASK 2: DBSCAN\n",
        "\n",
        "First, let's setup the data used in this section. We will redefine the variable `X` containing the data to be clustered."
      ],
      "metadata": {
        "id": "7wCCr_SqjGb3"
      }
    },
    {
      "cell_type": "code",
      "source": [
        "from sklearn.datasets import make_moons"
      ],
      "metadata": {
        "id": "kAkWhmjYlwJc"
      },
      "execution_count": null,
      "outputs": []
    },
    {
      "cell_type": "code",
      "source": [
        "X, _ = make_moons(\n",
        "    n_samples=200,\n",
        "    noise=.05,\n",
        "    random_state=RANDOM_SEED,\n",
        ")"
      ],
      "metadata": {
        "id": "JeZgx1Rnl1iS"
      },
      "execution_count": null,
      "outputs": []
    },
    {
      "cell_type": "code",
      "source": [
        "plt.scatter(X[:, 0], X[:, 1], s=50)"
      ],
      "metadata": {
        "id": "MmdUwMF8l9Vg"
      },
      "execution_count": null,
      "outputs": []
    },
    {
      "cell_type": "markdown",
      "source": [
        "### Task 2a\n",
        "\n",
        "* cluster the new data `X` using `KMeans`\n",
        "* set `n_clusters=2`\n",
        "* visualize and analyse the resulting clustering\n",
        "* What do you think of the result?"
      ],
      "metadata": {
        "id": "AtivNvrGoF9v"
      }
    },
    {
      "cell_type": "code",
      "source": [
        "kmeans = KMeans(n_clusters=2)\n",
        "labels = kmeans.fit_predict(X)\n",
        "centers = kmeans.cluster_centers_\n",
        "\n",
        "plt.scatter(X[:, 0], X[:, 1], c=labels, s=50)\n",
        "plt.scatter(centers[:, 0], centers[:, 1], c=\"black\", marker=\"x\", s=200)\n"
      ],
      "metadata": {
        "id": "Bf5mqNILoXVz"
      },
      "execution_count": null,
      "outputs": []
    },
    {
      "cell_type": "markdown",
      "source": [
        "### Task 2b\n",
        "\n",
        "Let's use `sklearn.cluster.DBSCAN` instead. Refer to the documentation: <https://scikit-learn.org/stable/modules/generated/sklearn.cluster.DBSCAN.html>\n",
        "\n",
        "* cluster the data using `DBSCAN`\n",
        "* try different values for `eps` and `min_samples` until you manage to obtain good clustering of the two half-moons"
      ],
      "metadata": {
        "id": "yBr9_643pOMG"
      }
    },
    {
      "cell_type": "code",
      "source": [
        "from sklearn.cluster import DBSCAN"
      ],
      "metadata": {
        "id": "42OURwFappgN"
      },
      "execution_count": null,
      "outputs": []
    },
    {
      "cell_type": "code",
      "source": [
        "dbscan = DBSCAN(eps=.25, min_samples=5)\n",
        "labels = dbscan.fit_predict(X)\n",
        "\n",
        "plt.scatter(X[:, 0], X[:, 1], c=labels, s=50)"
      ],
      "metadata": {
        "id": "mNVoC5AbpuHc"
      },
      "execution_count": null,
      "outputs": []
    },
    {
      "cell_type": "markdown",
      "source": [
        "## 📢 **HAND-IN** 📢: No submission needed for this task."
      ],
      "metadata": {
        "id": "jLTk8tewf_Ec"
      }
    },
    {
      "cell_type": "markdown",
      "source": [
        "# Task 3 (6 Points): Color Clustering in Images\n",
        "\n",
        "K-Means can be used for image compression. This task focuses on appling this compression technique to an image.\n",
        "\n",
        "We provide some useful helper functions below. Read the comments in the code carefully, but do not worry if you don't understand every line.\n"
      ],
      "metadata": {
        "id": "i5-u-CYJrOmE"
      }
    },
    {
      "cell_type": "code",
      "execution_count": null,
      "metadata": {
        "id": "eR8NMgX9VN8N"
      },
      "outputs": [],
      "source": [
        "from PIL import Image\n",
        "import requests\n",
        "from io import BytesIO"
      ]
    },
    {
      "cell_type": "code",
      "source": [
        "def download_img(url: str) -> Image:\n",
        "  \"\"\"\n",
        "  This function fetches an image from the internet and returns a PIL.Image object\n",
        "  see: https://pillow.readthedocs.io/en/stable/reference/Image.html\n",
        "\n",
        "  we tested it mainly on images from wikimedia\n",
        "  \"\"\"\n",
        "\n",
        "  # have to set a fake user-agent so we dont get blocked by wikimedia\n",
        "  headers = {'User-Agent': 'Mozilla/5.0 (Windows NT 10.0; Win64; x64) AppleWebKit/537.36 (KHTML, like Gecko) Chrome/102.0.0.0 Safari/537.36'}\n",
        "  r = requests.get(url, headers=headers)\n",
        "  if r.status_code != 200:\n",
        "    # if you hit this exception, consider using another image\n",
        "    raise Exception(f\"download failed:\\n{url}\")\n",
        "\n",
        "  return Image.open(BytesIO(r.content)).convert(\"RGB\")\n",
        "\n",
        "def img2arr(img: Image) -> np.array:\n",
        "  \"\"\"\n",
        "  convert a PIL.Image object to a numpy array\n",
        "  the resulting array has 3 dimensions [height, width, 3]\n",
        "  the last dimension contains rgb values\n",
        "\n",
        "  the rgb values are normalized to be between 0. and 1.\n",
        "  \"\"\"\n",
        "  return np.asarray(img) / 255\n",
        "\n",
        "def arr2img(arr: np.array) -> Image:\n",
        "  \"\"\"\n",
        "  convert a numpy array back into a PIL.Image object\n",
        "  we expect the rgb values of the array to be between 0. and 1.\n",
        "  \"\"\"\n",
        "  return Image.fromarray((arr * 255).astype(np.int8), mode=\"RGB\")"
      ],
      "metadata": {
        "id": "HF-AwKGUXGTA"
      },
      "execution_count": null,
      "outputs": []
    },
    {
      "cell_type": "code",
      "source": [
        "img_url = \"https://upload.wikimedia.org/wikipedia/commons/d/d7/RGB_24bits_palette_sample_image.jpg\"\n",
        "\n",
        "img = download_img(img_url)\n",
        "\n",
        "# you can visualize a PIL.Image object directly in jupyter using `display`\n",
        "display(img)\n",
        "\n",
        "img_arr = img2arr(img)\n",
        "\n",
        "# visualize the np.array version of the same image\n",
        "plt.imshow(img_arr)"
      ],
      "metadata": {
        "id": "tt83N847XmEx"
      },
      "execution_count": null,
      "outputs": []
    },
    {
      "cell_type": "code",
      "source": [
        "from typing import Optional\n",
        "\n",
        "def rg_chromaticity(color_arr: np.array) ->  np.array:\n",
        "  \"\"\"\n",
        "  helper function\n",
        "  \"\"\"\n",
        "  sums = np.sum(color_arr, axis=1, keepdims=True)\n",
        "  normed = np.divide(color_arr, sums, where=sums > 0.)\n",
        "  return normed\n",
        "\n",
        "def rg_chroma_plot(img_arr: np.array, centers: Optional[np.array] = None):\n",
        "  \"\"\"\n",
        "  plot an image in rg-chromaticity space\n",
        "  this is a 2D representation of 3D rgb data\n",
        "  refer to wikipedia for details: https://en.wikipedia.org/wiki/Rg_chromaticity\n",
        "\n",
        "  Note: the resulting plot will not accurately reflect the original euclidean distances\n",
        "\n",
        "  inputs:\n",
        "  img_arr: a numpy array with 3 dimensions [height, width, 3] representing an image\n",
        "  centers: a numpy array with 2 dimensions [n_centers, 3] representing the cluster centers\n",
        "  \"\"\"\n",
        "  colors = np.copy(img_arr).reshape((-1, 3))\n",
        "  colors = np.unique(colors, axis=0)\n",
        "  img_rg = rg_chromaticity(colors)\n",
        "  plt.scatter(img_rg[:, 0], img_rg[:, 1], c=[tuple(colors[i]) for i in range(colors.shape[0])], s=.1)\n",
        "\n",
        "  if centers is not None:\n",
        "    crg = rg_chromaticity(centers)\n",
        "    plt.scatter(crg[:, 0], crg[:, 1], c=\"black\", marker=\"x\", s=25.)\n",
        "\n",
        "  plt.xlabel(\"red\")\n",
        "  plt.ylabel(\"green\")\n",
        "  plt.show()\n"
      ],
      "metadata": {
        "id": "yIfA2ERaZXzD"
      },
      "execution_count": null,
      "outputs": []
    },
    {
      "cell_type": "code",
      "source": [
        "rg_chroma_plot(img_arr)"
      ],
      "metadata": {
        "id": "jNqOfnfLvizg"
      },
      "execution_count": null,
      "outputs": []
    },
    {
      "cell_type": "code",
      "source": [
        "from sklearn.metrics import pairwise_distances_argmin\n",
        "\n",
        "def replace_nearest_color(img_arr: np.array, centers: np.array):\n",
        "  \"\"\"\n",
        "  replace each pixel color in `img_arr` by the closest color in `centers`\n",
        "\n",
        "  input:\n",
        "  img_arr: a numpy array with 3 dimensions [height, width, 3] representing an image\n",
        "  centers: a numpy array with 2 dimensions [n_centers, 3] representing the cluster centers\n",
        "  \"\"\"\n",
        "  colors = img_arr.reshape((-1, 3))\n",
        "  labels = pairwise_distances_argmin(colors, centers)\n",
        "  compressed = labels.reshape(img_arr.shape[:2])\n",
        "  replaced = centers[compressed]\n",
        "  return replaced\n"
      ],
      "metadata": {
        "id": "FnAI7vWQHlop"
      },
      "execution_count": null,
      "outputs": []
    },
    {
      "cell_type": "code",
      "source": [
        "# generate 8 random colors for illustration\n",
        "random_centers = np.random.default_rng(RANDOM_SEED).random(size=(8, 3))\n",
        "\n",
        "# plot the random centers on top of the colors of the image\n",
        "rg_chroma_plot(img_arr, random_centers)\n",
        "\n",
        "# replace original colors by their nearest neighbors out of the candidate centers\n",
        "replaced = replace_nearest_color(img_arr, random_centers)\n",
        "\n",
        "# convert to PIL.Image and visualize\n",
        "display(arr2img(replaced))"
      ],
      "metadata": {
        "id": "LyNurmBNLvR_"
      },
      "execution_count": null,
      "outputs": []
    },
    {
      "cell_type": "markdown",
      "source": [
        "### Task 3 (continued)\n",
        "\n",
        "* Use an image from [wikimedia](https://commons.wikimedia.org/wiki/Main_Page) to compress. Make sure that it is not too big, e.g. less than 1000px per side\n",
        "\n",
        "* You can also use the same image we used in the example above\n",
        "\n",
        "* download the image and convert it to a numpy array using the functions `download_img` and `img2arr` we defined above  \n",
        "\n",
        "* Cluster the colors in the image using `KMeans`\n",
        "\n",
        "* Choose the appropriate hyperparameters and verify them (e.g. using `silhouette_score` or the elbow method)\n",
        "\n",
        "* Visualize your final cluster centers using `rg_chroma_plot` (see example usage above)\n",
        "\n",
        "* Replace the colors of the original image by their nearest center using `replace_nearest_color` and display the result (see example usage above)\n",
        "\n",
        "### Tips\n",
        "\n",
        "* The images have 3 dimensions but the clustering algorithms expect 2. You can use [np.reshape](https://numpy.org/doc/stable/reference/generated/numpy.reshape.html) to obtain the dimension you need.\n",
        "* To download the images you can right-click and save them to your computer."
      ],
      "metadata": {
        "id": "mNU8srsXxN9a"
      }
    },
    {
      "cell_type": "code",
      "source": [
        "img = download_img(\"https://upload.wikimedia.org/wikipedia/commons/thumb/c/c4/Stubai_-_Tiroler_Bergschaf_-BT-_01.jpg/240px-Stubai_-_Tiroler_Bergschaf_-BT-_01.jpg\")\n",
        "original = img2arr(img)\n",
        "\n",
        "display(img)"
      ],
      "metadata": {
        "id": "4rzZTpMlz3og"
      },
      "execution_count": null,
      "outputs": []
    },
    {
      "cell_type": "code",
      "source": [
        "from typing import List\n",
        "\n",
        "def elbow_plot(img_arr: np.array, ns: List[int]):\n",
        "  colors = img_arr.reshape((-1, 3))\n",
        "  scores = np.zeros(len(ns))\n",
        "  for ix, n in enumerate(ns):\n",
        "    km = KMeans(n_clusters=n)\n",
        "    km.fit(colors)\n",
        "    scores[ix] = -km.score(colors)\n",
        "  plt.plot(ns, scores, marker='x')\n"
      ],
      "metadata": {
        "id": "PbnDZsc3eU7g"
      },
      "execution_count": null,
      "outputs": []
    },
    {
      "cell_type": "code",
      "source": [
        "elbow_plot(img_arr, ns=[1, 4, 8, 16, 32, 64])"
      ],
      "metadata": {
        "id": "XGzqHT31fibT"
      },
      "execution_count": null,
      "outputs": []
    },
    {
      "cell_type": "code",
      "source": [
        "def elbow_plot(img_arr: np.array, ns: List[int]):\n",
        "  colors = img_arr.reshape((-1, 3))\n",
        "  scores = np.zeros(len(ns))\n",
        "  for ix, n in enumerate(ns):\n",
        "    km = KMeans(n_clusters=n)\n",
        "    km.fit(colors)\n",
        "    scores[ix] = km.inertia_\n",
        "  plt.plot(ns, scores, marker='x')\n"
      ],
      "metadata": {
        "id": "qpkftZ6WET7N"
      },
      "execution_count": null,
      "outputs": []
    },
    {
      "cell_type": "code",
      "source": [
        "elbow_plot(img_arr, ns=[1, 2, 4, 6, 8, 10, 15, 20, 30])"
      ],
      "metadata": {
        "id": "rFoez_E4EWia"
      },
      "execution_count": null,
      "outputs": []
    },
    {
      "cell_type": "code",
      "source": [
        "def silhouette_score_plotting(img_arr: np.array, ns: List[int]):\n",
        "  colors = img_arr.reshape((-1, 3))\n",
        "  scores = np.zeros(len(ns))\n",
        "  for ix, n in enumerate(ns):\n",
        "    km = KMeans(n_clusters=n)\n",
        "    labels = km.fit_predict(colors)\n",
        "    scores[ix] = silhouette_score(colors, labels)\n",
        "  plt.plot(ns, scores, marker='x')\n"
      ],
      "metadata": {
        "id": "OavGyYepFcVd"
      },
      "execution_count": null,
      "outputs": []
    },
    {
      "cell_type": "code",
      "source": [
        "silhouette_score_plotting(img_arr, ns=[2, 4, 6, 8, 10, 15, 20, 30])"
      ],
      "metadata": {
        "id": "y9wTxD2PFdow"
      },
      "execution_count": null,
      "outputs": []
    },
    {
      "cell_type": "code",
      "source": [
        "kmeans = KMeans(n_clusters=4)\n",
        "kmeans.fit(img2arr(img).reshape((-1, 3)))\n",
        "my_centers = kmeans.cluster_centers_"
      ],
      "metadata": {
        "id": "CMQpwY-9pmWL"
      },
      "execution_count": null,
      "outputs": []
    },
    {
      "cell_type": "code",
      "source": [
        "print(\"original\")\n",
        "display(img)\n",
        "\n",
        "print(\"clustered colors\")\n",
        "rg_chroma_plot(img2arr(img), my_centers)\n",
        "\n",
        "print(\"compressed\")\n",
        "display(arr2img(replace_nearest_color(img2arr(img), my_centers)))"
      ],
      "metadata": {
        "id": "ZY3HS4Oj2ynE"
      },
      "execution_count": null,
      "outputs": []
    },
    {
      "cell_type": "markdown",
      "source": [
        "## 📢 **HAND-IN** 📢:\n",
        "\n",
        "* The original image you used for this task if different than the example image\n",
        "\n",
        "* The final (compressed) image showing the replaced colors\n",
        "\n",
        "* Your code for computing the clustering\n",
        "\n",
        "* Short (2-3 sentences) description on how you verified the clustering and selected the hyperparameters\n"
      ],
      "metadata": {
        "id": "Ddxi0__NgPzi"
      }
    }
  ]
}