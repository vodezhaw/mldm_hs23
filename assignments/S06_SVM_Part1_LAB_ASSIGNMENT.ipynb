{
 "cells": [
  {
   "cell_type": "markdown",
   "id": "0ec81e2d-db8a-497d-a85b-7f9ad0094899",
   "metadata": {},
   "source": [
    "# Support Vector Machines Part 1"
   ]
  },
  {
   "cell_type": "code",
   "execution_count": null,
   "id": "0d7ff475-7289-44da-b100-a8bdf43b7d2e",
   "metadata": {
    "tags": []
   },
   "outputs": [],
   "source": [
    "%matplotlib inline\n",
    "import numpy as np\n",
    "import pandas as pd\n",
    "import matplotlib as mpl\n",
    "import matplotlib.pyplot as plt\n",
    "\n",
    "from sklearn import datasets\n",
    "from sklearn import svm\n",
    "from sklearn import preprocessing"
   ]
  },
  {
   "cell_type": "code",
   "execution_count": null,
   "id": "8b0e851c-a81d-4814-a060-b9bd26da7f34",
   "metadata": {
    "tags": []
   },
   "outputs": [],
   "source": [
    "%config InlineBackend.figure_formats = ['svg']\n",
    "\n",
    "plt.rc('font', size=14)\n",
    "plt.rc('axes', labelsize=14, titlesize=14)\n",
    "plt.rc('legend', fontsize=14)\n",
    "plt.rc('xtick', labelsize=10)\n",
    "plt.rc('ytick', labelsize=10)\n",
    "\n",
    "cmap= mpl.colors.ListedColormap(['red', 'black', 'blue'])"
   ]
  },
  {
   "cell_type": "markdown",
   "id": "920fe1cd-fd75-4b56-a47c-4317b990551a",
   "metadata": {},
   "source": [
    "## Task 1 Decision Boundary from a Maximal Margin Classifier (6 points)\n",
    "Let's create some synthetic data with two classes:"
   ]
  },
  {
   "cell_type": "code",
   "execution_count": null,
   "id": "e76c7349-896a-4c70-9257-e08435f0c263",
   "metadata": {
    "tags": []
   },
   "outputs": [],
   "source": [
    "X, y = datasets.make_blobs(n_samples=50, centers=2,\n",
    "                  random_state=0, cluster_std=0.60)\n",
    "\n",
    "y[np.where(y==0)] = -1\n",
    "\n",
    "fig, ax = plt.subplots(figsize=(5, 5))\n",
    "ax.scatter(X[:, 0], X[:, 1], c=y, s=50, cmap=cmap)\n",
    "\n",
    "ax.set_xlabel(r'$x_1$', fontsize=16)\n",
    "ax.set_ylabel(r'$x_2$', fontsize=16)\n",
    "\n",
    "plt.show()"
   ]
  },
  {
   "cell_type": "markdown",
   "id": "43d2da5f-b77c-4a21-a432-a32c2b43f863",
   "metadata": {},
   "source": [
    "In this task we will use the `SVC` model of `sklearn.svm` with a `kernel=linear` and large parameter `C`. `sklearn`'s module `svm` has implementations of several Support Vector Machine algorithms. Some are meant to solve Regression, some - Classification problems. `LinearSVC` stands for Linear Support Vector Classification which is exactly what we need in order to solve the maximal margin classification problem. However, `svm.SVC` offers more flexibility in order to extract the learned parameters etc."
   ]
  },
  {
   "cell_type": "code",
   "execution_count": null,
   "id": "23ebbb6a-3e34-42de-86bc-40bb56dee0f9",
   "metadata": {
    "tags": []
   },
   "outputs": [],
   "source": [
    "model = svm.SVC(kernel='linear', C=1000, tol=0.0001) # initialize the model\n",
    "model.fit(X, y) # fit the model = learn the decision boundaries"
   ]
  },
  {
   "cell_type": "markdown",
   "id": "42cbd32e-a9d9-408e-b647-2be8e3eae63f",
   "metadata": {},
   "source": [
    "When the optimisation has completed, you can access the parameters of the separating hyperplane. The vector $\\mathbf{w}$:"
   ]
  },
  {
   "cell_type": "code",
   "execution_count": null,
   "id": "7420afd1-bfd8-47fa-b306-c898658a1498",
   "metadata": {
    "tags": []
   },
   "outputs": [],
   "source": [
    "model.coef_"
   ]
  },
  {
   "cell_type": "markdown",
   "id": "63cf71dc-a753-4784-92f9-f52f2e5638f9",
   "metadata": {},
   "source": [
    "The $b$:"
   ]
  },
  {
   "cell_type": "code",
   "execution_count": null,
   "id": "bc71041a-b432-4cb3-8057-e46dcf305938",
   "metadata": {
    "tags": []
   },
   "outputs": [],
   "source": [
    "model.intercept_"
   ]
  },
  {
   "cell_type": "markdown",
   "id": "ea9af3db-c843-422c-ba5a-875d719ad9a0",
   "metadata": {
    "tags": []
   },
   "source": [
    "The indices of the support vectors:"
   ]
  },
  {
   "cell_type": "code",
   "execution_count": null,
   "id": "9fa4d49b-f42b-4de2-9e54-1ae516a5a495",
   "metadata": {
    "tags": []
   },
   "outputs": [],
   "source": [
    "model.support_"
   ]
  },
  {
   "cell_type": "markdown",
   "id": "728a5bd2-239a-43dc-ba2a-ab8df28f836b",
   "metadata": {},
   "source": [
    "So you can slice $\\mathbf{X}$ for the corresponding coordinates"
   ]
  },
  {
   "cell_type": "code",
   "execution_count": null,
   "id": "bbeef760-10a1-406d-bd6c-e31742857bac",
   "metadata": {
    "tags": []
   },
   "outputs": [],
   "source": [
    "X[model.support_]"
   ]
  },
  {
   "cell_type": "markdown",
   "id": "4b49c5f7-a206-4543-894a-adaf0dd3bb6c",
   "metadata": {},
   "source": [
    "or get them directly:"
   ]
  },
  {
   "cell_type": "code",
   "execution_count": null,
   "id": "ab2de8e6-e43e-4bbd-9c6e-906b980b5672",
   "metadata": {
    "tags": []
   },
   "outputs": [],
   "source": [
    "model.support_vectors_"
   ]
  },
  {
   "cell_type": "markdown",
   "id": "f5e64571-5b2a-4d7f-8889-0d5864c0f577",
   "metadata": {},
   "source": [
    "**Task 1A** Calculate $y^{(m)}\\left(b+w^Tx^{(m)}\\right)$ for every support vector. Please explain whether the result complies with your expectation and why? "
   ]
  },
  {
   "cell_type": "code",
   "execution_count": null,
   "id": "c47e38b2-41a0-4d58-b42d-0b7050efa0e0",
   "metadata": {},
   "outputs": [],
   "source": []
  },
  {
   "cell_type": "markdown",
   "id": "d41b1d9d-e221-4765-8611-571f47084ad0",
   "metadata": {},
   "source": [
    "## 📢 **HAND-IN** 📢: Report the calculated values and your explanation from Task 1A in Moodle"
   ]
  },
  {
   "cell_type": "code",
   "execution_count": null,
   "id": "0d3f2bea-d4d2-4888-b4a6-1492e3405988",
   "metadata": {},
   "outputs": [],
   "source": []
  },
  {
   "cell_type": "markdown",
   "id": "7d69fc08-0000-4819-ab8d-9e9dcc8de9c8",
   "metadata": {},
   "source": [
    "**Task 1B** Calculate the distance from the decision boundary to the support vectors, i.e. the width of the margin"
   ]
  },
  {
   "cell_type": "code",
   "execution_count": null,
   "id": "3531a93f-2dc5-4674-847d-c5ac720e1230",
   "metadata": {},
   "outputs": [],
   "source": []
  },
  {
   "cell_type": "markdown",
   "id": "bcb821b4-551a-4c46-81bc-246295ef43e1",
   "metadata": {},
   "source": [
    "## 📢 **HAND-IN** 📢: Report the width of the margin calculated in Task 1B in Moodle"
   ]
  },
  {
   "cell_type": "code",
   "execution_count": null,
   "id": "5e84d30a-0a8f-402f-8dbf-64aaafa91402",
   "metadata": {},
   "outputs": [],
   "source": []
  },
  {
   "cell_type": "markdown",
   "id": "515a6183-5ee3-454f-8430-7bf3a1ff119f",
   "metadata": {},
   "source": [
    "**Task 1C** Generate a scatterplot with the data $X$, the decision boundary and the gutters like in \n",
    "https://github.zhaw.ch/pages/doem/mldm_book/06_svm.html#fig-max-margin\n",
    "using the optimised parameters `model.interecept_` and `model.coef_[0]` "
   ]
  },
  {
   "cell_type": "code",
   "execution_count": null,
   "id": "862e2901-a73a-49b4-bb9d-c30ae8b216c9",
   "metadata": {},
   "outputs": [],
   "source": []
  },
  {
   "cell_type": "markdown",
   "id": "cd6e8cb6-d84f-4c15-8ec7-b85b5de660e7",
   "metadata": {},
   "source": [
    "## 📢 **HAND-IN** 📢: Upload an image-file of the plot from task 1C in Moodle"
   ]
  },
  {
   "cell_type": "code",
   "execution_count": null,
   "id": "200853c4-901b-49ac-8093-b3ab4e273306",
   "metadata": {},
   "outputs": [],
   "source": []
  },
  {
   "cell_type": "markdown",
   "id": "a207e57a-af49-463d-b93a-e0a733a074b3",
   "metadata": {},
   "source": [
    "## Task 2 Large Margin Classifier on the Wine Dataset (4 points)\n",
    "This dataset `sklearn.datasets.load_wine()` contains the chemical analysis of 178 wine samples produced by 3 different cultivators: the goal is to train a classification model capable of predicting the cultivator based on the wine's chemical analysis. Since SVM classifiers are binary classifiers, you will need to use one-versus-all to classify all 3 classes. What accuracy can you reach?"
   ]
  },
  {
   "cell_type": "code",
   "execution_count": null,
   "id": "016a06f5-f14a-4abe-9733-22760bf5a8d1",
   "metadata": {
    "tags": []
   },
   "outputs": [],
   "source": [
    "wine = datasets.load_wine(as_frame=True)\n",
    "print(wine.DESCR)"
   ]
  },
  {
   "cell_type": "markdown",
   "id": "c29cd774-13d5-42ec-886b-2e90305f36aa",
   "metadata": {},
   "source": [
    "**TASK 2A**: Train a linear SVM on the dataset and report the accuracy"
   ]
  },
  {
   "cell_type": "code",
   "execution_count": null,
   "id": "bd87802f-1a57-47bf-b639-d70d44c837c3",
   "metadata": {
    "id": "n6rKtPO1O1cL",
    "tags": []
   },
   "outputs": [],
   "source": [
    "from sklearn.model_selection import train_test_split\n",
    "\n",
    "X_train, X_test, y_train, y_test = train_test_split(\n",
    "    wine.data, wine.target, random_state=42)"
   ]
  },
  {
   "cell_type": "code",
   "execution_count": null,
   "id": "852844a6-99a0-4cc6-8f01-3e0fdf5b7cfd",
   "metadata": {
    "id": "SUQ2E0OZO1cM",
    "outputId": "c22e7590-87db-40bc-a2af-b07917a99bb1",
    "tags": []
   },
   "outputs": [],
   "source": [
    "X_train.head()"
   ]
  },
  {
   "cell_type": "code",
   "execution_count": null,
   "id": "03027a0c-544f-4819-81c4-cbc928d32226",
   "metadata": {
    "id": "ZeorMFmQO1cM",
    "outputId": "b184860c-167d-4708-f579-905f5998afdc",
    "tags": []
   },
   "outputs": [],
   "source": [
    "y_train.head()"
   ]
  },
  {
   "cell_type": "code",
   "execution_count": null,
   "id": "0a489075-b260-4e98-881c-f891e43227ca",
   "metadata": {},
   "outputs": [],
   "source": []
  },
  {
   "cell_type": "markdown",
   "id": "529722d7-ffb9-4fd5-9723-c0039e99b903",
   "metadata": {
    "id": "7QSGdLNKO1cM"
   },
   "source": [
    "SVC will automatically use the One-vs-All strategy, so there's nothing special we need to do to handle multiple classes."
   ]
  },
  {
   "cell_type": "code",
   "execution_count": null,
   "id": "a59d82fd-d975-4c70-a368-390c84e86f54",
   "metadata": {
    "tags": []
   },
   "outputs": [],
   "source": [
    "model = svm.SVC(kernel='linear', C=1000, tol=0.0001, random_state=42) # initialize the model\n",
    "..."
   ]
  },
  {
   "cell_type": "markdown",
   "id": "53f54ec0-7d8a-49e0-8252-3309fa306d0f",
   "metadata": {},
   "source": [
    "Calulate the accuracy (cross validation score):"
   ]
  },
  {
   "cell_type": "code",
   "execution_count": null,
   "id": "cb2a01f8-db95-41dd-b902-1336961a6794",
   "metadata": {},
   "outputs": [],
   "source": [
    "from sklearn.model_selection import cross_val_score\n",
    "\n",
    "cross_val_score(...).mean()"
   ]
  },
  {
   "cell_type": "code",
   "execution_count": null,
   "id": "86fe7142-507a-4c42-b795-002e1c1bf47b",
   "metadata": {},
   "outputs": [],
   "source": []
  },
  {
   "cell_type": "markdown",
   "id": "60c4c092-c5d7-4410-b851-4b8e1895de21",
   "metadata": {},
   "source": [
    "## 📢 **HAND-IN** 📢: \n",
    "Report the accuracy that you reached in task 2A without feature scaling in Moodle"
   ]
  },
  {
   "cell_type": "code",
   "execution_count": null,
   "id": "8f823f52-de0e-4d33-aad1-e28359ae53c7",
   "metadata": {},
   "outputs": [],
   "source": []
  },
  {
   "cell_type": "markdown",
   "id": "43ea63a7-f8ad-41c5-b1a3-389ccc83de24",
   "metadata": {},
   "source": [
    "**Task 2B**: Which accuracy (cross validation score) can you reach when you standarize the features before training?  \n",
    "See https://scikit-learn.org/stable/modules/generated/sklearn.preprocessing.StandardScaler.html"
   ]
  },
  {
   "cell_type": "code",
   "execution_count": null,
   "id": "53de78c0-df3c-4985-8efc-14ec466667d1",
   "metadata": {},
   "outputs": [],
   "source": []
  },
  {
   "cell_type": "code",
   "execution_count": null,
   "id": "485c6513-4108-45cf-b82c-f3371d8f3796",
   "metadata": {},
   "outputs": [],
   "source": [
    "cross_val_score(...).mean()"
   ]
  },
  {
   "cell_type": "markdown",
   "id": "3d627b15-3dcb-4603-9fb7-5b010f638b44",
   "metadata": {},
   "source": [
    "## 📢 **HAND-IN** 📢: Report the accuracy that you reached with feature standaridsation in Task 2B in Moodle"
   ]
  },
  {
   "cell_type": "code",
   "execution_count": null,
   "id": "772a819d-dd9b-48e4-b6fe-f18246f3e93d",
   "metadata": {},
   "outputs": [],
   "source": []
  }
 ],
 "metadata": {
  "kernelspec": {
   "display_name": "Python 3 (ipykernel)",
   "language": "python",
   "name": "python3"
  },
  "language_info": {
   "codemirror_mode": {
    "name": "ipython",
    "version": 3
   },
   "file_extension": ".py",
   "mimetype": "text/x-python",
   "name": "python",
   "nbconvert_exporter": "python",
   "pygments_lexer": "ipython3",
   "version": "3.8.17"
  }
 },
 "nbformat": 4,
 "nbformat_minor": 5
}
